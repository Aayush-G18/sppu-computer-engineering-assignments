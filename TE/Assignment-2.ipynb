{
 "cells": [
  {
   "cell_type": "markdown",
   "id": "492f2b4e",
   "metadata": {},
   "source": [
    "## Data Wrangling - II"
   ]
  },
  {
   "cell_type": "markdown",
   "id": "b6d284d6",
   "metadata": {},
   "source": [
    "### 1. Dealing with missing values"
   ]
  },
  {
   "cell_type": "code",
   "execution_count": 66,
   "id": "d33573e6",
   "metadata": {},
   "outputs": [],
   "source": [
    "import numpy as np\n",
    "import pandas as pd\n",
    "import matplotlib.pyplot as plt\n",
    "from scipy import stats as st"
   ]
  },
  {
   "cell_type": "code",
   "execution_count": 67,
   "id": "0bf2b8d4",
   "metadata": {},
   "outputs": [],
   "source": [
    "df = pd.read_csv(\"StudentsPerformance_modified.csv\")"
   ]
  },
  {
   "cell_type": "code",
   "execution_count": 68,
   "id": "c51412e6",
   "metadata": {},
   "outputs": [
    {
     "data": {
      "text/html": [
       "<div>\n",
       "<style scoped>\n",
       "    .dataframe tbody tr th:only-of-type {\n",
       "        vertical-align: middle;\n",
       "    }\n",
       "\n",
       "    .dataframe tbody tr th {\n",
       "        vertical-align: top;\n",
       "    }\n",
       "\n",
       "    .dataframe thead th {\n",
       "        text-align: right;\n",
       "    }\n",
       "</style>\n",
       "<table border=\"1\" class=\"dataframe\">\n",
       "  <thead>\n",
       "    <tr style=\"text-align: right;\">\n",
       "      <th></th>\n",
       "      <th>gender</th>\n",
       "      <th>race/ethnicity</th>\n",
       "      <th>parental level of education</th>\n",
       "      <th>lunch</th>\n",
       "      <th>test preparation course</th>\n",
       "      <th>math score</th>\n",
       "      <th>reading score</th>\n",
       "      <th>writing score</th>\n",
       "    </tr>\n",
       "  </thead>\n",
       "  <tbody>\n",
       "    <tr>\n",
       "      <th>0</th>\n",
       "      <td>female</td>\n",
       "      <td>group B</td>\n",
       "      <td>bachelor's degree</td>\n",
       "      <td>standard</td>\n",
       "      <td>none</td>\n",
       "      <td>72</td>\n",
       "      <td>72.0</td>\n",
       "      <td>74.0</td>\n",
       "    </tr>\n",
       "    <tr>\n",
       "      <th>1</th>\n",
       "      <td>female</td>\n",
       "      <td>group C</td>\n",
       "      <td>some college</td>\n",
       "      <td>standard</td>\n",
       "      <td>completed</td>\n",
       "      <td>69</td>\n",
       "      <td>90.0</td>\n",
       "      <td>88.0</td>\n",
       "    </tr>\n",
       "    <tr>\n",
       "      <th>2</th>\n",
       "      <td>female</td>\n",
       "      <td>group B</td>\n",
       "      <td>master's degree</td>\n",
       "      <td>standard</td>\n",
       "      <td>none</td>\n",
       "      <td>90</td>\n",
       "      <td>95.0</td>\n",
       "      <td>93.0</td>\n",
       "    </tr>\n",
       "    <tr>\n",
       "      <th>3</th>\n",
       "      <td>male</td>\n",
       "      <td>group A</td>\n",
       "      <td>associate's degree</td>\n",
       "      <td>free/reduced</td>\n",
       "      <td>none</td>\n",
       "      <td>47</td>\n",
       "      <td>57.0</td>\n",
       "      <td>44.0</td>\n",
       "    </tr>\n",
       "    <tr>\n",
       "      <th>4</th>\n",
       "      <td>male</td>\n",
       "      <td>group C</td>\n",
       "      <td>some college</td>\n",
       "      <td>standard</td>\n",
       "      <td>none</td>\n",
       "      <td>76</td>\n",
       "      <td>78.0</td>\n",
       "      <td>75.0</td>\n",
       "    </tr>\n",
       "    <tr>\n",
       "      <th>5</th>\n",
       "      <td>female</td>\n",
       "      <td>group B</td>\n",
       "      <td>associate's degree</td>\n",
       "      <td>standard</td>\n",
       "      <td>none</td>\n",
       "      <td>71</td>\n",
       "      <td>83.0</td>\n",
       "      <td>78.0</td>\n",
       "    </tr>\n",
       "    <tr>\n",
       "      <th>6</th>\n",
       "      <td>female</td>\n",
       "      <td>group B</td>\n",
       "      <td>some college</td>\n",
       "      <td>standard</td>\n",
       "      <td>completed</td>\n",
       "      <td>88</td>\n",
       "      <td>95.0</td>\n",
       "      <td>92.0</td>\n",
       "    </tr>\n",
       "    <tr>\n",
       "      <th>7</th>\n",
       "      <td>male</td>\n",
       "      <td>group B</td>\n",
       "      <td>some college</td>\n",
       "      <td>free/reduced</td>\n",
       "      <td>none</td>\n",
       "      <td>40</td>\n",
       "      <td>43.0</td>\n",
       "      <td>39.0</td>\n",
       "    </tr>\n",
       "    <tr>\n",
       "      <th>8</th>\n",
       "      <td>male</td>\n",
       "      <td>group D</td>\n",
       "      <td>high school</td>\n",
       "      <td>free/reduced</td>\n",
       "      <td>completed</td>\n",
       "      <td>64</td>\n",
       "      <td>64.0</td>\n",
       "      <td>67.0</td>\n",
       "    </tr>\n",
       "    <tr>\n",
       "      <th>9</th>\n",
       "      <td>female</td>\n",
       "      <td>group B</td>\n",
       "      <td>high school</td>\n",
       "      <td>free/reduced</td>\n",
       "      <td>none</td>\n",
       "      <td>38</td>\n",
       "      <td>60.0</td>\n",
       "      <td>50.0</td>\n",
       "    </tr>\n",
       "  </tbody>\n",
       "</table>\n",
       "</div>"
      ],
      "text/plain": [
       "   gender race/ethnicity parental level of education         lunch  \\\n",
       "0  female        group B           bachelor's degree      standard   \n",
       "1  female        group C                some college      standard   \n",
       "2  female        group B             master's degree      standard   \n",
       "3    male        group A          associate's degree  free/reduced   \n",
       "4    male        group C                some college      standard   \n",
       "5  female        group B          associate's degree      standard   \n",
       "6  female        group B                some college      standard   \n",
       "7    male        group B                some college  free/reduced   \n",
       "8    male        group D                 high school  free/reduced   \n",
       "9  female        group B                 high school  free/reduced   \n",
       "\n",
       "  test preparation course math score  reading score  writing score  \n",
       "0                    none         72           72.0           74.0  \n",
       "1               completed         69           90.0           88.0  \n",
       "2                    none         90           95.0           93.0  \n",
       "3                    none         47           57.0           44.0  \n",
       "4                    none         76           78.0           75.0  \n",
       "5                    none         71           83.0           78.0  \n",
       "6               completed         88           95.0           92.0  \n",
       "7                    none         40           43.0           39.0  \n",
       "8               completed         64           64.0           67.0  \n",
       "9                    none         38           60.0           50.0  "
      ]
     },
     "execution_count": 68,
     "metadata": {},
     "output_type": "execute_result"
    }
   ],
   "source": [
    "df.head(10)"
   ]
  },
  {
   "cell_type": "code",
   "execution_count": 69,
   "id": "63522019",
   "metadata": {
    "scrolled": true
   },
   "outputs": [
    {
     "data": {
      "text/plain": [
       "gender                          object\n",
       "race/ethnicity                  object\n",
       "parental level of education     object\n",
       "lunch                           object\n",
       "test preparation course         object\n",
       "math score                      object\n",
       "reading score                  float64\n",
       "writing score                  float64\n",
       "dtype: object"
      ]
     },
     "execution_count": 69,
     "metadata": {},
     "output_type": "execute_result"
    }
   ],
   "source": [
    "df.dtypes"
   ]
  },
  {
   "cell_type": "code",
   "execution_count": 70,
   "id": "af9a7d87",
   "metadata": {},
   "outputs": [],
   "source": [
    "df['math score'] = pd.to_numeric(df['math score'], errors='coerce')"
   ]
  },
  {
   "cell_type": "code",
   "execution_count": 71,
   "id": "aca74297",
   "metadata": {},
   "outputs": [
    {
     "data": {
      "text/plain": [
       "gender                          object\n",
       "race/ethnicity                  object\n",
       "parental level of education     object\n",
       "lunch                           object\n",
       "test preparation course         object\n",
       "math score                     float64\n",
       "reading score                  float64\n",
       "writing score                  float64\n",
       "dtype: object"
      ]
     },
     "execution_count": 71,
     "metadata": {},
     "output_type": "execute_result"
    }
   ],
   "source": [
    "df.dtypes"
   ]
  },
  {
   "cell_type": "code",
   "execution_count": 72,
   "id": "177d3cb3",
   "metadata": {},
   "outputs": [
    {
     "data": {
      "text/html": [
       "<div>\n",
       "<style scoped>\n",
       "    .dataframe tbody tr th:only-of-type {\n",
       "        vertical-align: middle;\n",
       "    }\n",
       "\n",
       "    .dataframe tbody tr th {\n",
       "        vertical-align: top;\n",
       "    }\n",
       "\n",
       "    .dataframe thead th {\n",
       "        text-align: right;\n",
       "    }\n",
       "</style>\n",
       "<table border=\"1\" class=\"dataframe\">\n",
       "  <thead>\n",
       "    <tr style=\"text-align: right;\">\n",
       "      <th></th>\n",
       "      <th>gender</th>\n",
       "      <th>race/ethnicity</th>\n",
       "      <th>parental level of education</th>\n",
       "      <th>lunch</th>\n",
       "      <th>test preparation course</th>\n",
       "      <th>math score</th>\n",
       "      <th>reading score</th>\n",
       "      <th>writing score</th>\n",
       "    </tr>\n",
       "  </thead>\n",
       "  <tbody>\n",
       "    <tr>\n",
       "      <th>0</th>\n",
       "      <td>female</td>\n",
       "      <td>group B</td>\n",
       "      <td>bachelor's degree</td>\n",
       "      <td>standard</td>\n",
       "      <td>none</td>\n",
       "      <td>72.0</td>\n",
       "      <td>72.0</td>\n",
       "      <td>74.0</td>\n",
       "    </tr>\n",
       "    <tr>\n",
       "      <th>1</th>\n",
       "      <td>female</td>\n",
       "      <td>group C</td>\n",
       "      <td>some college</td>\n",
       "      <td>standard</td>\n",
       "      <td>completed</td>\n",
       "      <td>69.0</td>\n",
       "      <td>90.0</td>\n",
       "      <td>88.0</td>\n",
       "    </tr>\n",
       "    <tr>\n",
       "      <th>2</th>\n",
       "      <td>female</td>\n",
       "      <td>group B</td>\n",
       "      <td>master's degree</td>\n",
       "      <td>standard</td>\n",
       "      <td>none</td>\n",
       "      <td>90.0</td>\n",
       "      <td>95.0</td>\n",
       "      <td>93.0</td>\n",
       "    </tr>\n",
       "    <tr>\n",
       "      <th>3</th>\n",
       "      <td>male</td>\n",
       "      <td>group A</td>\n",
       "      <td>associate's degree</td>\n",
       "      <td>free/reduced</td>\n",
       "      <td>none</td>\n",
       "      <td>47.0</td>\n",
       "      <td>57.0</td>\n",
       "      <td>44.0</td>\n",
       "    </tr>\n",
       "    <tr>\n",
       "      <th>4</th>\n",
       "      <td>male</td>\n",
       "      <td>group C</td>\n",
       "      <td>some college</td>\n",
       "      <td>standard</td>\n",
       "      <td>none</td>\n",
       "      <td>76.0</td>\n",
       "      <td>78.0</td>\n",
       "      <td>75.0</td>\n",
       "    </tr>\n",
       "  </tbody>\n",
       "</table>\n",
       "</div>"
      ],
      "text/plain": [
       "   gender race/ethnicity parental level of education         lunch  \\\n",
       "0  female        group B           bachelor's degree      standard   \n",
       "1  female        group C                some college      standard   \n",
       "2  female        group B             master's degree      standard   \n",
       "3    male        group A          associate's degree  free/reduced   \n",
       "4    male        group C                some college      standard   \n",
       "\n",
       "  test preparation course  math score  reading score  writing score  \n",
       "0                    none        72.0           72.0           74.0  \n",
       "1               completed        69.0           90.0           88.0  \n",
       "2                    none        90.0           95.0           93.0  \n",
       "3                    none        47.0           57.0           44.0  \n",
       "4                    none        76.0           78.0           75.0  "
      ]
     },
     "execution_count": 72,
     "metadata": {},
     "output_type": "execute_result"
    }
   ],
   "source": [
    "df.head()"
   ]
  },
  {
   "cell_type": "code",
   "execution_count": 73,
   "id": "b97a1d39",
   "metadata": {},
   "outputs": [
    {
     "data": {
      "text/plain": [
       "gender                         False\n",
       "race/ethnicity                 False\n",
       "parental level of education    False\n",
       "lunch                          False\n",
       "test preparation course        False\n",
       "math score                      True\n",
       "reading score                   True\n",
       "writing score                   True\n",
       "dtype: bool"
      ]
     },
     "execution_count": 73,
     "metadata": {},
     "output_type": "execute_result"
    }
   ],
   "source": [
    "df.isnull().any()"
   ]
  },
  {
   "cell_type": "code",
   "execution_count": 74,
   "id": "794c1b1c",
   "metadata": {},
   "outputs": [
    {
     "name": "stderr",
     "output_type": "stream",
     "text": [
      "/tmp/ipykernel_3140/133585990.py:1: FutureWarning: Dropping of nuisance columns in DataFrame reductions (with 'numeric_only=None') is deprecated; in a future version this will raise TypeError.  Select only valid columns before calling the reduction.\n",
      "  mean_values = df.mean()\n"
     ]
    },
    {
     "data": {
      "text/plain": [
       "math score       66.323929\n",
       "reading score    68.008048\n",
       "writing score    69.487386\n",
       "dtype: float64"
      ]
     },
     "execution_count": 74,
     "metadata": {},
     "output_type": "execute_result"
    }
   ],
   "source": [
    "mean_values = df.mean()\n",
    "mean_values"
   ]
  },
  {
   "cell_type": "code",
   "execution_count": 75,
   "id": "7e9c962a",
   "metadata": {},
   "outputs": [
    {
     "data": {
      "text/plain": [
       "['math score', 'reading score', 'writing score']"
      ]
     },
     "execution_count": 75,
     "metadata": {},
     "output_type": "execute_result"
    }
   ],
   "source": [
    "numeric_cols = [col for col in df.columns if (df[col].dtype == 'float' or df[col].dtype == 'int')]\n",
    "numeric_cols"
   ]
  },
  {
   "cell_type": "code",
   "execution_count": 76,
   "id": "ca18a696",
   "metadata": {},
   "outputs": [],
   "source": [
    "for i in range(len(numeric_cols)):\n",
    "    df[numeric_cols[i]].fillna(round(mean_values[i]), inplace=True)"
   ]
  },
  {
   "cell_type": "code",
   "execution_count": 77,
   "id": "44191246",
   "metadata": {},
   "outputs": [
    {
     "data": {
      "text/html": [
       "<div>\n",
       "<style scoped>\n",
       "    .dataframe tbody tr th:only-of-type {\n",
       "        vertical-align: middle;\n",
       "    }\n",
       "\n",
       "    .dataframe tbody tr th {\n",
       "        vertical-align: top;\n",
       "    }\n",
       "\n",
       "    .dataframe thead th {\n",
       "        text-align: right;\n",
       "    }\n",
       "</style>\n",
       "<table border=\"1\" class=\"dataframe\">\n",
       "  <thead>\n",
       "    <tr style=\"text-align: right;\">\n",
       "      <th></th>\n",
       "      <th>gender</th>\n",
       "      <th>race/ethnicity</th>\n",
       "      <th>parental level of education</th>\n",
       "      <th>lunch</th>\n",
       "      <th>test preparation course</th>\n",
       "      <th>math score</th>\n",
       "      <th>reading score</th>\n",
       "      <th>writing score</th>\n",
       "    </tr>\n",
       "  </thead>\n",
       "  <tbody>\n",
       "    <tr>\n",
       "      <th>0</th>\n",
       "      <td>female</td>\n",
       "      <td>group B</td>\n",
       "      <td>bachelor's degree</td>\n",
       "      <td>standard</td>\n",
       "      <td>none</td>\n",
       "      <td>72.0</td>\n",
       "      <td>72.0</td>\n",
       "      <td>74.0</td>\n",
       "    </tr>\n",
       "    <tr>\n",
       "      <th>1</th>\n",
       "      <td>female</td>\n",
       "      <td>group C</td>\n",
       "      <td>some college</td>\n",
       "      <td>standard</td>\n",
       "      <td>completed</td>\n",
       "      <td>69.0</td>\n",
       "      <td>90.0</td>\n",
       "      <td>88.0</td>\n",
       "    </tr>\n",
       "    <tr>\n",
       "      <th>2</th>\n",
       "      <td>female</td>\n",
       "      <td>group B</td>\n",
       "      <td>master's degree</td>\n",
       "      <td>standard</td>\n",
       "      <td>none</td>\n",
       "      <td>90.0</td>\n",
       "      <td>95.0</td>\n",
       "      <td>93.0</td>\n",
       "    </tr>\n",
       "    <tr>\n",
       "      <th>3</th>\n",
       "      <td>male</td>\n",
       "      <td>group A</td>\n",
       "      <td>associate's degree</td>\n",
       "      <td>free/reduced</td>\n",
       "      <td>none</td>\n",
       "      <td>47.0</td>\n",
       "      <td>57.0</td>\n",
       "      <td>44.0</td>\n",
       "    </tr>\n",
       "    <tr>\n",
       "      <th>4</th>\n",
       "      <td>male</td>\n",
       "      <td>group C</td>\n",
       "      <td>some college</td>\n",
       "      <td>standard</td>\n",
       "      <td>none</td>\n",
       "      <td>76.0</td>\n",
       "      <td>78.0</td>\n",
       "      <td>75.0</td>\n",
       "    </tr>\n",
       "  </tbody>\n",
       "</table>\n",
       "</div>"
      ],
      "text/plain": [
       "   gender race/ethnicity parental level of education         lunch  \\\n",
       "0  female        group B           bachelor's degree      standard   \n",
       "1  female        group C                some college      standard   \n",
       "2  female        group B             master's degree      standard   \n",
       "3    male        group A          associate's degree  free/reduced   \n",
       "4    male        group C                some college      standard   \n",
       "\n",
       "  test preparation course  math score  reading score  writing score  \n",
       "0                    none        72.0           72.0           74.0  \n",
       "1               completed        69.0           90.0           88.0  \n",
       "2                    none        90.0           95.0           93.0  \n",
       "3                    none        47.0           57.0           44.0  \n",
       "4                    none        76.0           78.0           75.0  "
      ]
     },
     "execution_count": 77,
     "metadata": {},
     "output_type": "execute_result"
    }
   ],
   "source": [
    "df.head()"
   ]
  },
  {
   "cell_type": "code",
   "execution_count": 78,
   "id": "b4f879dc",
   "metadata": {},
   "outputs": [
    {
     "data": {
      "text/plain": [
       "gender                         False\n",
       "race/ethnicity                 False\n",
       "parental level of education    False\n",
       "lunch                          False\n",
       "test preparation course        False\n",
       "math score                     False\n",
       "reading score                  False\n",
       "writing score                  False\n",
       "dtype: bool"
      ]
     },
     "execution_count": 78,
     "metadata": {},
     "output_type": "execute_result"
    }
   ],
   "source": [
    "df.isnull().any()"
   ]
  },
  {
   "cell_type": "markdown",
   "id": "440974a1",
   "metadata": {},
   "source": [
    "### 2. Dealing with outliers"
   ]
  },
  {
   "cell_type": "code",
   "execution_count": 79,
   "id": "540b3fe4",
   "metadata": {},
   "outputs": [],
   "source": [
    "# Identify numeric columns\n",
    "numeric_columns = df.select_dtypes(include=[np.number]).columns"
   ]
  },
  {
   "cell_type": "code",
   "execution_count": 80,
   "id": "3f6bfa8a",
   "metadata": {},
   "outputs": [
    {
     "name": "stdout",
     "output_type": "stream",
     "text": [
      "Outliers detected in column 'math score':\n",
      "     gender race/ethnicity parental level of education         lunch  \\\n",
      "59   female        group C            some high school  free/reduced   \n",
      "91     male        group C                 high school  free/reduced   \n",
      "145  female        group C                some college  free/reduced   \n",
      "327    male        group A                some college  free/reduced   \n",
      "338  female        group B            some high school  free/reduced   \n",
      "363  female        group D            some high school  free/reduced   \n",
      "420  female        group C          associate's degree  free/reduced   \n",
      "431  female        group C                 high school      standard   \n",
      "456  female        group D           bachelor's degree      standard   \n",
      "466  female        group D          associate's degree  free/reduced   \n",
      "474  female        group B          associate's degree      standard   \n",
      "787  female        group B                some college      standard   \n",
      "842  female        group B                 high school  free/reduced   \n",
      "980  female        group B                 high school  free/reduced   \n",
      "\n",
      "    test preparation course  math score  reading score  writing score  \n",
      "59                     none         0.0           17.0           10.0  \n",
      "91                     none        27.0           34.0           36.0  \n",
      "145                    none        22.0           39.0           33.0  \n",
      "327                    none        28.0           23.0           19.0  \n",
      "338                    none        24.0           38.0           27.0  \n",
      "363                    none        27.0           34.0           32.0  \n",
      "420               completed       113.0           93.0           93.0  \n",
      "431                    none       123.0           72.0           70.0  \n",
      "456                    none       -89.0           89.0           89.0  \n",
      "466                    none        26.0           31.0           38.0  \n",
      "474               completed       334.0           90.0           91.0  \n",
      "787                    none        19.0           38.0           32.0  \n",
      "842               completed        23.0           44.0           36.0  \n",
      "980                    none         8.0           24.0           23.0  \n",
      "\n",
      "------------------------------------------------------------\n",
      "\n",
      "Outliers detected in column 'reading score':\n",
      "     gender race/ethnicity parental level of education         lunch  \\\n",
      "18     male        group C             master's degree  free/reduced   \n",
      "19   female        group C          associate's degree  free/reduced   \n",
      "20     male        group D                 high school      standard   \n",
      "21   female        group B                some college  free/reduced   \n",
      "22     male        group D                some college      standard   \n",
      "23   female        group C            some high school      standard   \n",
      "24     male        group D           bachelor's degree  free/reduced   \n",
      "25     male        group A             master's degree  free/reduced   \n",
      "26     male        group B                some college      standard   \n",
      "27   female        group C           bachelor's degree      standard   \n",
      "28     male        group C                 high school      standard   \n",
      "29   female        group D             master's degree      standard   \n",
      "30   female        group D                some college      standard   \n",
      "31   female        group B                some college      standard   \n",
      "33     male        group D                some college      standard   \n",
      "34     male        group E                some college      standard   \n",
      "35     male        group E          associate's degree      standard   \n",
      "36   female        group D          associate's degree      standard   \n",
      "37   female        group D            some high school  free/reduced   \n",
      "76     male        group E            some high school      standard   \n",
      "211    male        group C                some college  free/reduced   \n",
      "596    male        group B                 high school  free/reduced   \n",
      "\n",
      "    test preparation course  math score  reading score  writing score  \n",
      "18                completed        66.0           22.0           46.0  \n",
      "19                     none        66.0           22.0           61.0  \n",
      "20                     none        66.0           12.0           63.0  \n",
      "21                completed        66.0           12.0           70.0  \n",
      "22                     none        66.0           13.0           53.0  \n",
      "23                     none        66.0           14.0           69.0  \n",
      "24                completed        74.0            9.0           80.0  \n",
      "25                     none        73.0            8.0           72.0  \n",
      "26                     none        69.0            7.0           55.0  \n",
      "27                     none        67.0            6.0           75.0  \n",
      "28                     none        70.0            4.0           69.0  \n",
      "29                     none        62.0            3.0           75.0  \n",
      "30                     none        69.0            5.0           74.0  \n",
      "31                     none        63.0            6.0           61.0  \n",
      "33                     none        40.0           22.0           38.0  \n",
      "34                     none        66.0           11.0           82.0  \n",
      "35                completed        81.0           11.0           79.0  \n",
      "36                     none        74.0           12.0           83.0  \n",
      "37                     none        50.0           12.0           59.0  \n",
      "76                     none        30.0           26.0           22.0  \n",
      "211                    none        35.0           28.0           27.0  \n",
      "596                    none        30.0           24.0           15.0  \n",
      "\n",
      "------------------------------------------------------------\n",
      "\n",
      "Outliers detected in column 'writing score':\n",
      "     gender race/ethnicity parental level of education     lunch  \\\n",
      "459    male        group B                 high school  standard   \n",
      "465  female        group C                some college  standard   \n",
      "542  female        group C          associate's degree  standard   \n",
      "591    male        group A            some high school  standard   \n",
      "651  female        group A                 high school  standard   \n",
      "\n",
      "    test preparation course  math score  reading score  writing score  \n",
      "459               completed        72.0           65.0          112.0  \n",
      "465                    none        84.0           87.0          114.0  \n",
      "542                    none        81.0           77.0          455.0  \n",
      "591                    none        71.0           62.0          567.0  \n",
      "651               completed        68.0           80.0          554.0  \n",
      "\n",
      "------------------------------------------------------------\n",
      "\n"
     ]
    }
   ],
   "source": [
    "# Scan for outliers using IQR\n",
    "for col in numeric_columns:\n",
    "    q1 = df[col].quantile(0.25)\n",
    "    q3 = df[col].quantile(0.75)\n",
    "    iqr = q3 - q1\n",
    "    lower_bound = q1 - 1.5 * iqr\n",
    "    upper_bound = q3 + 1.5 * iqr\n",
    "    \n",
    "    # Identify outliers\n",
    "    outliers = df[~df[col].between(lower_bound, upper_bound)]\n",
    "    \n",
    "    # Print outliers if any\n",
    "    if len(outliers) > 0:\n",
    "        print(f\"Outliers detected in column '{col}':\")\n",
    "        print(outliers)\n",
    "        df = df.drop(outliers.index)\n",
    "    else:\n",
    "        print(f\"No outliers detected in column '{col}'.\")\n",
    "        \n",
    "    \n",
    "    print()    \n",
    "    print(\"------------------------------------------------------------\")\n",
    "    print()"
   ]
  },
  {
   "cell_type": "markdown",
   "id": "bfe2260e",
   "metadata": {},
   "source": [
    "### 3. Applying data transformation"
   ]
  },
  {
   "cell_type": "code",
   "execution_count": 81,
   "id": "f805ab79",
   "metadata": {},
   "outputs": [
    {
     "name": "stdout",
     "output_type": "stream",
     "text": [
      "math score      -0.005428\n",
      "reading score   -0.093828\n",
      "writing score   -0.107861\n",
      "dtype: float64\n"
     ]
    },
    {
     "name": "stderr",
     "output_type": "stream",
     "text": [
      "/tmp/ipykernel_3140/1427750965.py:2: FutureWarning: Dropping of nuisance columns in DataFrame reductions (with 'numeric_only=None') is deprecated; in a future version this will raise TypeError.  Select only valid columns before calling the reduction.\n",
      "  skewness = df.skew(axis=0, skipna=True)\n"
     ]
    }
   ],
   "source": [
    "# skewness of all numeric columns\n",
    "skewness = df.skew(axis=0, skipna=True)\n",
    "print(skewness)"
   ]
  },
  {
   "cell_type": "code",
   "execution_count": 84,
   "id": "a1f30589",
   "metadata": {},
   "outputs": [
    {
     "data": {
      "image/png": "[encoded data removed]",
      "text/plain": [
       "<Figure size 640x480 with 4 Axes>"
      ]
     },
     "metadata": {},
     "output_type": "display_data"
    }
   ],
   "source": [
    "# histograms for original values\n",
    "\n",
    "df.hist(bins=10, layout=(2, 2))\n",
    "plt.xlabel(\"Score Value\")\n",
    "plt.ylabel(\"Frequency\")\n",
    "plt.suptitle(\"Histograms of Student Scores\")\n",
    "plt.tight_layout()\n",
    "plt.show()"
   ]
  },
  {
   "cell_type": "code",
   "execution_count": 93,
   "id": "fe98f592",
   "metadata": {},
   "outputs": [
    {
     "data": {
      "image/png": "[encoded data removed]",
      "text/plain": [
       "<Figure size 640x480 with 4 Axes>"
      ]
     },
     "metadata": {},
     "output_type": "display_data"
    }
   ],
   "source": [
    "# standardization\n",
    "\n",
    "df_scaled = df.copy()\n",
    "df_scaled[\"math_score_scaled\"] = (df_scaled[\"math score\"] - df_scaled[\"math score\"].mean()) / df_scaled[\"math score\"].std()\n",
    "df_scaled[\"reading_score_scaled\"] = (df_scaled[\"reading score\"] - df_scaled[\"reading score\"].mean()) / df_scaled[\"reading score\"].std()\n",
    "df_scaled[\"writing_score_scaled\"] = (df_scaled[\"writing score\"] - df_scaled[\"writing score\"].mean()) / df_scaled[\"writing score\"].std()"
   ]
  },
  {
   "cell_type": "code",
   "execution_count": null,
   "id": "ca23741c",
   "metadata": {},
   "outputs": [],
   "source": [
    "# histograms for original values\n",
    "\n",
    "df_scaled.iloc[:,-3:].hist(bins=10, layout=(2, 2))\n",
    "plt.xlabel(\"Scaled Score Value\")\n",
    "plt.ylabel(\"Frequency\")\n",
    "plt.suptitle(\"Histograms of Scaled Scores\")\n",
    "plt.tight_layout()\n",
    "plt.show()"
   ]
  }
 ],
 "metadata": {
  "kernelspec": {
   "display_name": "Python 3 (ipykernel)",
   "language": "python",
   "name": "python3"
  },
  "language_info": {
   "codemirror_mode": {
    "name": "ipython",
    "version": 3
   },
   "file_extension": ".py",
   "mimetype": "text/x-python",
   "name": "python",
   "nbconvert_exporter": "python",
   "pygments_lexer": "ipython3",
   "version": "3.9.13"
  }
 },
 "nbformat": 4,
 "nbformat_minor": 5
}
