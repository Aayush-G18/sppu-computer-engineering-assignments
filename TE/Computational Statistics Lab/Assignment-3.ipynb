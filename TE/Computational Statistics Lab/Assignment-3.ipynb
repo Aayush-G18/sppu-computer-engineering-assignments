{
 "cells": [
  {
   "cell_type": "code",
   "execution_count": 95,
   "id": "f2549fb9",
   "metadata": {},
   "outputs": [],
   "source": [
    "import numpy as np\n",
    "import pandas as pd\n",
    "import matplotlib.pyplot as plt\n",
    "from sklearn.linear_model import LinearRegression"
   ]
  },
  {
   "cell_type": "code",
   "execution_count": 96,
   "id": "1955027a",
   "metadata": {},
   "outputs": [
    {
     "data": {
      "text/html": [
       "<div>\n",
       "<style scoped>\n",
       "    .dataframe tbody tr th:only-of-type {\n",
       "        vertical-align: middle;\n",
       "    }\n",
       "\n",
       "    .dataframe tbody tr th {\n",
       "        vertical-align: top;\n",
       "    }\n",
       "\n",
       "    .dataframe thead th {\n",
       "        text-align: right;\n",
       "    }\n",
       "</style>\n",
       "<table border=\"1\" class=\"dataframe\">\n",
       "  <thead>\n",
       "    <tr style=\"text-align: right;\">\n",
       "      <th></th>\n",
       "      <th>low</th>\n",
       "      <th>age</th>\n",
       "      <th>lwt</th>\n",
       "      <th>race</th>\n",
       "      <th>smoke</th>\n",
       "      <th>ptl</th>\n",
       "      <th>ht</th>\n",
       "      <th>ui</th>\n",
       "      <th>ftv</th>\n",
       "      <th>bwt</th>\n",
       "    </tr>\n",
       "  </thead>\n",
       "  <tbody>\n",
       "    <tr>\n",
       "      <th>0</th>\n",
       "      <td>0</td>\n",
       "      <td>19</td>\n",
       "      <td>182</td>\n",
       "      <td>2</td>\n",
       "      <td>0</td>\n",
       "      <td>0</td>\n",
       "      <td>0</td>\n",
       "      <td>1</td>\n",
       "      <td>0</td>\n",
       "      <td>2523</td>\n",
       "    </tr>\n",
       "    <tr>\n",
       "      <th>1</th>\n",
       "      <td>0</td>\n",
       "      <td>33</td>\n",
       "      <td>155</td>\n",
       "      <td>3</td>\n",
       "      <td>0</td>\n",
       "      <td>0</td>\n",
       "      <td>0</td>\n",
       "      <td>0</td>\n",
       "      <td>3</td>\n",
       "      <td>2551</td>\n",
       "    </tr>\n",
       "    <tr>\n",
       "      <th>2</th>\n",
       "      <td>0</td>\n",
       "      <td>20</td>\n",
       "      <td>105</td>\n",
       "      <td>1</td>\n",
       "      <td>1</td>\n",
       "      <td>0</td>\n",
       "      <td>0</td>\n",
       "      <td>0</td>\n",
       "      <td>1</td>\n",
       "      <td>2557</td>\n",
       "    </tr>\n",
       "    <tr>\n",
       "      <th>3</th>\n",
       "      <td>0</td>\n",
       "      <td>21</td>\n",
       "      <td>108</td>\n",
       "      <td>1</td>\n",
       "      <td>1</td>\n",
       "      <td>0</td>\n",
       "      <td>0</td>\n",
       "      <td>1</td>\n",
       "      <td>2</td>\n",
       "      <td>2594</td>\n",
       "    </tr>\n",
       "    <tr>\n",
       "      <th>4</th>\n",
       "      <td>0</td>\n",
       "      <td>18</td>\n",
       "      <td>107</td>\n",
       "      <td>1</td>\n",
       "      <td>1</td>\n",
       "      <td>0</td>\n",
       "      <td>0</td>\n",
       "      <td>1</td>\n",
       "      <td>0</td>\n",
       "      <td>2600</td>\n",
       "    </tr>\n",
       "    <tr>\n",
       "      <th>5</th>\n",
       "      <td>0</td>\n",
       "      <td>21</td>\n",
       "      <td>124</td>\n",
       "      <td>3</td>\n",
       "      <td>0</td>\n",
       "      <td>0</td>\n",
       "      <td>0</td>\n",
       "      <td>0</td>\n",
       "      <td>0</td>\n",
       "      <td>2622</td>\n",
       "    </tr>\n",
       "    <tr>\n",
       "      <th>6</th>\n",
       "      <td>0</td>\n",
       "      <td>22</td>\n",
       "      <td>118</td>\n",
       "      <td>1</td>\n",
       "      <td>0</td>\n",
       "      <td>0</td>\n",
       "      <td>0</td>\n",
       "      <td>0</td>\n",
       "      <td>1</td>\n",
       "      <td>2637</td>\n",
       "    </tr>\n",
       "    <tr>\n",
       "      <th>7</th>\n",
       "      <td>0</td>\n",
       "      <td>17</td>\n",
       "      <td>103</td>\n",
       "      <td>3</td>\n",
       "      <td>0</td>\n",
       "      <td>0</td>\n",
       "      <td>0</td>\n",
       "      <td>0</td>\n",
       "      <td>1</td>\n",
       "      <td>2637</td>\n",
       "    </tr>\n",
       "    <tr>\n",
       "      <th>8</th>\n",
       "      <td>0</td>\n",
       "      <td>29</td>\n",
       "      <td>123</td>\n",
       "      <td>1</td>\n",
       "      <td>1</td>\n",
       "      <td>0</td>\n",
       "      <td>0</td>\n",
       "      <td>0</td>\n",
       "      <td>1</td>\n",
       "      <td>2663</td>\n",
       "    </tr>\n",
       "    <tr>\n",
       "      <th>9</th>\n",
       "      <td>0</td>\n",
       "      <td>26</td>\n",
       "      <td>113</td>\n",
       "      <td>1</td>\n",
       "      <td>1</td>\n",
       "      <td>0</td>\n",
       "      <td>0</td>\n",
       "      <td>0</td>\n",
       "      <td>0</td>\n",
       "      <td>2665</td>\n",
       "    </tr>\n",
       "  </tbody>\n",
       "</table>\n",
       "</div>"
      ],
      "text/plain": [
       "   low  age  lwt  race  smoke  ptl  ht  ui  ftv   bwt\n",
       "0    0   19  182     2      0    0   0   1    0  2523\n",
       "1    0   33  155     3      0    0   0   0    3  2551\n",
       "2    0   20  105     1      1    0   0   0    1  2557\n",
       "3    0   21  108     1      1    0   0   1    2  2594\n",
       "4    0   18  107     1      1    0   0   1    0  2600\n",
       "5    0   21  124     3      0    0   0   0    0  2622\n",
       "6    0   22  118     1      0    0   0   0    1  2637\n",
       "7    0   17  103     3      0    0   0   0    1  2637\n",
       "8    0   29  123     1      1    0   0   0    1  2663\n",
       "9    0   26  113     1      1    0   0   0    0  2665"
      ]
     },
     "execution_count": 96,
     "metadata": {},
     "output_type": "execute_result"
    }
   ],
   "source": [
    "df = pd.read_csv('birthwt.csv')\n",
    "df.head(10)"
   ]
  },
  {
   "cell_type": "code",
   "execution_count": 97,
   "id": "9cc2ca10",
   "metadata": {
    "scrolled": true
   },
   "outputs": [
    {
     "data": {
      "text/html": [
       "<div>\n",
       "<style scoped>\n",
       "    .dataframe tbody tr th:only-of-type {\n",
       "        vertical-align: middle;\n",
       "    }\n",
       "\n",
       "    .dataframe tbody tr th {\n",
       "        vertical-align: top;\n",
       "    }\n",
       "\n",
       "    .dataframe thead th {\n",
       "        text-align: right;\n",
       "    }\n",
       "</style>\n",
       "<table border=\"1\" class=\"dataframe\">\n",
       "  <thead>\n",
       "    <tr style=\"text-align: right;\">\n",
       "      <th></th>\n",
       "      <th>low</th>\n",
       "      <th>age</th>\n",
       "      <th>lwt</th>\n",
       "      <th>race</th>\n",
       "      <th>smoke</th>\n",
       "      <th>ptl</th>\n",
       "      <th>ht</th>\n",
       "      <th>ui</th>\n",
       "      <th>ftv</th>\n",
       "      <th>bwt</th>\n",
       "    </tr>\n",
       "  </thead>\n",
       "  <tbody>\n",
       "    <tr>\n",
       "      <th>count</th>\n",
       "      <td>189.000000</td>\n",
       "      <td>189.000000</td>\n",
       "      <td>189.000000</td>\n",
       "      <td>189.000000</td>\n",
       "      <td>189.000000</td>\n",
       "      <td>189.000000</td>\n",
       "      <td>189.000000</td>\n",
       "      <td>189.000000</td>\n",
       "      <td>189.000000</td>\n",
       "      <td>189.000000</td>\n",
       "    </tr>\n",
       "    <tr>\n",
       "      <th>mean</th>\n",
       "      <td>0.312169</td>\n",
       "      <td>23.238095</td>\n",
       "      <td>129.814815</td>\n",
       "      <td>1.846561</td>\n",
       "      <td>0.391534</td>\n",
       "      <td>0.195767</td>\n",
       "      <td>0.063492</td>\n",
       "      <td>0.148148</td>\n",
       "      <td>0.793651</td>\n",
       "      <td>2944.587302</td>\n",
       "    </tr>\n",
       "    <tr>\n",
       "      <th>std</th>\n",
       "      <td>0.464609</td>\n",
       "      <td>5.298678</td>\n",
       "      <td>30.579380</td>\n",
       "      <td>0.918342</td>\n",
       "      <td>0.489390</td>\n",
       "      <td>0.493342</td>\n",
       "      <td>0.244494</td>\n",
       "      <td>0.356190</td>\n",
       "      <td>1.059286</td>\n",
       "      <td>729.214295</td>\n",
       "    </tr>\n",
       "    <tr>\n",
       "      <th>min</th>\n",
       "      <td>0.000000</td>\n",
       "      <td>14.000000</td>\n",
       "      <td>80.000000</td>\n",
       "      <td>1.000000</td>\n",
       "      <td>0.000000</td>\n",
       "      <td>0.000000</td>\n",
       "      <td>0.000000</td>\n",
       "      <td>0.000000</td>\n",
       "      <td>0.000000</td>\n",
       "      <td>709.000000</td>\n",
       "    </tr>\n",
       "    <tr>\n",
       "      <th>25%</th>\n",
       "      <td>0.000000</td>\n",
       "      <td>19.000000</td>\n",
       "      <td>110.000000</td>\n",
       "      <td>1.000000</td>\n",
       "      <td>0.000000</td>\n",
       "      <td>0.000000</td>\n",
       "      <td>0.000000</td>\n",
       "      <td>0.000000</td>\n",
       "      <td>0.000000</td>\n",
       "      <td>2414.000000</td>\n",
       "    </tr>\n",
       "    <tr>\n",
       "      <th>50%</th>\n",
       "      <td>0.000000</td>\n",
       "      <td>23.000000</td>\n",
       "      <td>121.000000</td>\n",
       "      <td>1.000000</td>\n",
       "      <td>0.000000</td>\n",
       "      <td>0.000000</td>\n",
       "      <td>0.000000</td>\n",
       "      <td>0.000000</td>\n",
       "      <td>0.000000</td>\n",
       "      <td>2977.000000</td>\n",
       "    </tr>\n",
       "    <tr>\n",
       "      <th>75%</th>\n",
       "      <td>1.000000</td>\n",
       "      <td>26.000000</td>\n",
       "      <td>140.000000</td>\n",
       "      <td>3.000000</td>\n",
       "      <td>1.000000</td>\n",
       "      <td>0.000000</td>\n",
       "      <td>0.000000</td>\n",
       "      <td>0.000000</td>\n",
       "      <td>1.000000</td>\n",
       "      <td>3487.000000</td>\n",
       "    </tr>\n",
       "    <tr>\n",
       "      <th>max</th>\n",
       "      <td>1.000000</td>\n",
       "      <td>45.000000</td>\n",
       "      <td>250.000000</td>\n",
       "      <td>3.000000</td>\n",
       "      <td>1.000000</td>\n",
       "      <td>3.000000</td>\n",
       "      <td>1.000000</td>\n",
       "      <td>1.000000</td>\n",
       "      <td>6.000000</td>\n",
       "      <td>4990.000000</td>\n",
       "    </tr>\n",
       "  </tbody>\n",
       "</table>\n",
       "</div>"
      ],
      "text/plain": [
       "              low         age         lwt        race       smoke         ptl  \\\n",
       "count  189.000000  189.000000  189.000000  189.000000  189.000000  189.000000   \n",
       "mean     0.312169   23.238095  129.814815    1.846561    0.391534    0.195767   \n",
       "std      0.464609    5.298678   30.579380    0.918342    0.489390    0.493342   \n",
       "min      0.000000   14.000000   80.000000    1.000000    0.000000    0.000000   \n",
       "25%      0.000000   19.000000  110.000000    1.000000    0.000000    0.000000   \n",
       "50%      0.000000   23.000000  121.000000    1.000000    0.000000    0.000000   \n",
       "75%      1.000000   26.000000  140.000000    3.000000    1.000000    0.000000   \n",
       "max      1.000000   45.000000  250.000000    3.000000    1.000000    3.000000   \n",
       "\n",
       "               ht          ui         ftv          bwt  \n",
       "count  189.000000  189.000000  189.000000   189.000000  \n",
       "mean     0.063492    0.148148    0.793651  2944.587302  \n",
       "std      0.244494    0.356190    1.059286   729.214295  \n",
       "min      0.000000    0.000000    0.000000   709.000000  \n",
       "25%      0.000000    0.000000    0.000000  2414.000000  \n",
       "50%      0.000000    0.000000    0.000000  2977.000000  \n",
       "75%      0.000000    0.000000    1.000000  3487.000000  \n",
       "max      1.000000    1.000000    6.000000  4990.000000  "
      ]
     },
     "execution_count": 97,
     "metadata": {},
     "output_type": "execute_result"
    }
   ],
   "source": [
    "df.describe()"
   ]
  },
  {
   "cell_type": "markdown",
   "id": "3fbc39a0",
   "metadata": {},
   "source": [
    "## Exploratory Data Analysis"
   ]
  },
  {
   "cell_type": "code",
   "execution_count": 98,
   "id": "ffee3512",
   "metadata": {},
   "outputs": [
    {
     "name": "stdout",
     "output_type": "stream",
     "text": [
      "Correlation Coeff. of Mother's Age & Birth Weight =  0.0903178136685326\n"
     ]
    }
   ],
   "source": [
    "print(\"Correlation Coeff. of Mother's Age & Birth Weight = \", df['age'].corr(df['bwt']))"
   ]
  },
  {
   "cell_type": "code",
   "execution_count": 99,
   "id": "98714298",
   "metadata": {},
   "outputs": [],
   "source": [
    "# convert to arrays\n",
    "age = df['age']\n",
    "age = age.to_numpy()\n",
    "\n",
    "bwt = df['bwt']\n",
    "bwt = bwt.to_numpy()\n",
    "#bwt = bwt/1000  #bwt in kgs"
   ]
  },
  {
   "cell_type": "code",
   "execution_count": 100,
   "id": "7576bbef",
   "metadata": {},
   "outputs": [
    {
     "data": {
      "text/plain": [
       "Text(0, 0.5, 'Birth Weight (kg)')"
      ]
     },
     "execution_count": 100,
     "metadata": {},
     "output_type": "execute_result"
    },
    {
     "data": {
      "image/png": "[encoded data removed]",
      "text/plain": [
       "<Figure size 576x432 with 1 Axes>"
      ]
     },
     "metadata": {
      "needs_background": "light"
     },
     "output_type": "display_data"
    }
   ],
   "source": [
    "plt.figure(figsize=(8,6))\n",
    "plt.scatter(age, bwt/1000, c='seagreen')  # bwt in kgs\n",
    "plt.title('Scatter Plot: Birth Weight vs. Age')\n",
    "plt.xlabel(\"Age\")\n",
    "plt.ylabel(\"Birth Weight (kg)\")"
   ]
  },
  {
   "cell_type": "code",
   "execution_count": 101,
   "id": "6900d46b",
   "metadata": {},
   "outputs": [
    {
     "data": {
      "text/plain": [
       "LinearRegression()"
      ]
     },
     "execution_count": 101,
     "metadata": {},
     "output_type": "execute_result"
    }
   ],
   "source": [
    "age = age.reshape(-1, 1)\n",
    "model = LinearRegression()\n",
    "model.fit(age, bwt)"
   ]
  },
  {
   "cell_type": "code",
   "execution_count": 102,
   "id": "eb16cfdd",
   "metadata": {},
   "outputs": [],
   "source": [
    "y_pred = model.predict(age)"
   ]
  },
  {
   "cell_type": "code",
   "execution_count": 103,
   "id": "39e6f72b",
   "metadata": {},
   "outputs": [
    {
     "name": "stdout",
     "output_type": "stream",
     "text": [
      "Coefficient of Independent Variable : 12.429712027714618\n",
      "Intercept : 2655.7444697051715\n"
     ]
    }
   ],
   "source": [
    "# y = mx + c\n",
    "print(\"Coefficient of Independent Variable :\", model.coef_[0])  # m\n",
    "print(\"Intercept :\", model.intercept_)  # c"
   ]
  },
  {
   "cell_type": "code",
   "execution_count": 104,
   "id": "d3a98974",
   "metadata": {},
   "outputs": [
    {
     "data": {
      "image/png": "[encoded data removed]",
      "text/plain": [
       "<Figure size 576x432 with 1 Axes>"
      ]
     },
     "metadata": {
      "needs_background": "light"
     },
     "output_type": "display_data"
    }
   ],
   "source": [
    "plt.figure(figsize=(8, 6))\n",
    "plt.scatter(age, bwt, color='darkblue', label='Data')\n",
    "plt.plot(age, y_pred, color='crimson', linewidth=2, label='Linear Regression')\n",
    "plt.title(\"Linear Regression: Age vs. Birth Weight\")\n",
    "plt.xlabel(\"Age\")\n",
    "plt.ylabel(\"Birth Weight\")\n",
    "plt.legend()\n",
    "plt.grid(True)\n",
    "plt.show()"
   ]
  },
  {
   "cell_type": "code",
   "execution_count": 105,
   "id": "84ae5e99",
   "metadata": {},
   "outputs": [
    {
     "name": "stdout",
     "output_type": "stream",
     "text": [
      "Correlation Coeff. of Mother's Weight & Birth Weight =  0.18573328444909915\n"
     ]
    }
   ],
   "source": [
    "print(\"Correlation Coeff. of Mother's Weight & Birth Weight = \", df['lwt'].corr(df['bwt']))"
   ]
  },
  {
   "cell_type": "code",
   "execution_count": 106,
   "id": "cd227a31",
   "metadata": {},
   "outputs": [],
   "source": [
    "lwt = df['lwt']\n",
    "lwt = lwt.to_numpy()\n",
    "#bwt = bwt/454  # bwt in lbs"
   ]
  },
  {
   "cell_type": "code",
   "execution_count": 107,
   "id": "cfece159",
   "metadata": {},
   "outputs": [
    {
     "data": {
      "text/plain": [
       "Text(0, 0.5, 'Birth Weight (lbs)')"
      ]
     },
     "execution_count": 107,
     "metadata": {},
     "output_type": "execute_result"
    },
    {
     "data": {
      "image/png": "[encoded data removed]",
      "text/plain": [
       "<Figure size 576x432 with 1 Axes>"
      ]
     },
     "metadata": {
      "needs_background": "light"
     },
     "output_type": "display_data"
    }
   ],
   "source": [
    "plt.figure(figsize=(8,6))\n",
    "plt.scatter(lwt, bwt/454, c='seagreen')  \n",
    "plt.title(\"Scatter Plot: Mother's Weight vs Birth Weight\")\n",
    "plt.xlabel(\"Mother's Weight\")\n",
    "plt.ylabel(\"Birth Weight (lbs)\")"
   ]
  },
  {
   "cell_type": "code",
   "execution_count": 108,
   "id": "68f8b72e",
   "metadata": {},
   "outputs": [
    {
     "data": {
      "text/plain": [
       "LinearRegression()"
      ]
     },
     "execution_count": 108,
     "metadata": {},
     "output_type": "execute_result"
    }
   ],
   "source": [
    "lwt = lwt.reshape(-1, 1)\n",
    "model = LinearRegression()\n",
    "model.fit(lwt, bwt)"
   ]
  },
  {
   "cell_type": "code",
   "execution_count": 109,
   "id": "34c1bdab",
   "metadata": {},
   "outputs": [],
   "source": [
    "y_pred = model.predict(lwt)"
   ]
  },
  {
   "cell_type": "code",
   "execution_count": 110,
   "id": "7bd793be",
   "metadata": {},
   "outputs": [
    {
     "name": "stdout",
     "output_type": "stream",
     "text": [
      "Coefficient of Independent Variable : 4.429107606350704\n",
      "Intercept : 2369.623517873997\n"
     ]
    }
   ],
   "source": [
    "# y = mx + c\n",
    "print(\"Coefficient of Independent Variable :\", model.coef_[0])  # m\n",
    "print(\"Intercept :\", model.intercept_)  # c"
   ]
  },
  {
   "cell_type": "code",
   "execution_count": 111,
   "id": "103177c0",
   "metadata": {},
   "outputs": [
    {
     "data": {
      "image/png": "[encoded data removed]",
      "text/plain": [
       "<Figure size 576x432 with 1 Axes>"
      ]
     },
     "metadata": {
      "needs_background": "light"
     },
     "output_type": "display_data"
    }
   ],
   "source": [
    "plt.figure(figsize=(8, 6))\n",
    "plt.scatter(lwt, bwt, color='darkblue', label='Data')\n",
    "plt.plot(lwt, y_pred, color='crimson', linewidth=2, label='Linear Regression')\n",
    "plt.title(\"Linear Regression: Mother's Weight vs. Birth Weight\")\n",
    "plt.xlabel(\"Age\")\n",
    "plt.ylabel(\"Birth Weight\")\n",
    "plt.legend()\n",
    "plt.grid(True)\n",
    "plt.show()"
   ]
  },
  {
   "cell_type": "markdown",
   "id": "ec86f415",
   "metadata": {},
   "source": [
    "## Conclusion\n",
    "\n",
    "### 1. Mother's Age & Birth Weight\n",
    "The correlation coefficient between mother's age and birth weight was 0.0903 and indicated a very weak positive correlation. This means that there is a very slight trend that babies born to older mothers weigh more at birth.\n",
    "The scatter plot supports this statement, and the regression line has a positive slope of 12.4297.\n",
    "\n",
    "### 2. Mother's Weight & Birth Weight\n",
    "The correlation coefficient between mother's weight and birth weight was 0.1857 and indicated a weak positive correlation. This means that there is a slight tendency for babies born to mothers with higher weights to weigh more at birth.\n",
    "The scatter plot supports this statement, and the regression line has a positive slope of 4.4291. \n",
    "\n",
    "**Therefore, there is positive correlation between both age and weight of mothers with birth weight. However, the correlation is greater for mother's weight than for age. The correlations are weak and there is a lot of variation in the data, which suggests there are other factors as well, that affect birth weight.**"
   ]
  }
 ],
 "metadata": {
  "kernelspec": {
   "display_name": "Python 3 (ipykernel)",
   "language": "python",
   "name": "python3"
  },
  "language_info": {
   "codemirror_mode": {
    "name": "ipython",
    "version": 3
   },
   "file_extension": ".py",
   "mimetype": "text/x-python",
   "name": "python",
   "nbconvert_exporter": "python",
   "pygments_lexer": "ipython3",
   "version": "3.9.12"
  }
 },
 "nbformat": 4,
 "nbformat_minor": 5
}
